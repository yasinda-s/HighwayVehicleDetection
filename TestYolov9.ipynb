{
 "cells": [
  {
   "cell_type": "code",
   "execution_count": 1,
   "id": "26cfbd25",
   "metadata": {},
   "outputs": [
    {
     "name": "stdout",
     "output_type": "stream",
     "text": [
      "\n",
      "     active environment : vision\n",
      "    active env location : D:\\Anaconda\\envs\\vision\n",
      "            shell level : 2\n",
      "       user config file : C:\\Users\\Yasinda\\.condarc\n",
      " populated config files : C:\\Users\\Yasinda\\.condarc\n",
      "          conda version : 23.5.2\n",
      "    conda-build version : 3.25.0\n",
      "         python version : 3.11.3.final.0\n",
      "       virtual packages : __archspec=1=x86_64\n",
      "                          __cuda=12.4=0\n",
      "                          __win=0=0\n",
      "       base environment : D:\\Anaconda  (writable)\n",
      "      conda av data dir : D:\\Anaconda\\etc\\conda\n",
      "  conda av metadata url : None\n",
      "           channel URLs : https://repo.anaconda.com/pkgs/main/win-64\n",
      "                          https://repo.anaconda.com/pkgs/main/noarch\n",
      "                          https://repo.anaconda.com/pkgs/r/win-64\n",
      "                          https://repo.anaconda.com/pkgs/r/noarch\n",
      "                          https://repo.anaconda.com/pkgs/msys2/win-64\n",
      "                          https://repo.anaconda.com/pkgs/msys2/noarch\n",
      "          package cache : D:\\Anaconda\\pkgs\n",
      "                          C:\\Users\\Yasinda\\.conda\\pkgs\n",
      "                          C:\\Users\\Yasinda\\AppData\\Local\\conda\\conda\\pkgs\n",
      "       envs directories : D:\\Anaconda\\envs\n",
      "                          C:\\Users\\Yasinda\\.conda\\envs\n",
      "                          C:\\Users\\Yasinda\\AppData\\Local\\conda\\conda\\envs\n",
      "               platform : win-64\n",
      "             user-agent : conda/23.5.2 requests/2.29.0 CPython/3.11.3 Windows/10 Windows/10.0.22621\n",
      "          administrator : False\n",
      "             netrc file : None\n",
      "           offline mode : False\n",
      "\n",
      "\n",
      "\n",
      "Note: you may need to restart the kernel to use updated packages.\n"
     ]
    }
   ],
   "source": [
    "%conda info"
   ]
  },
  {
   "cell_type": "code",
   "execution_count": 10,
   "id": "3cc0de57",
   "metadata": {},
   "outputs": [],
   "source": [
    "!pip install -q supervision"
   ]
  },
  {
   "cell_type": "code",
   "execution_count": 3,
   "id": "38b68164",
   "metadata": {},
   "outputs": [
    {
     "name": "stderr",
     "output_type": "stream",
     "text": [
      "Cloning into 'yolov9'...\n"
     ]
    }
   ],
   "source": [
    "!git clone --recursive https://github.com/WongKinYiu/yolov9.git"
   ]
  },
  {
   "cell_type": "code",
   "execution_count": 2,
   "id": "f9658b6a",
   "metadata": {},
   "outputs": [
    {
     "name": "stdout",
     "output_type": "stream",
     "text": [
      "D:\\Jupyter Notebooks\\YOLOv9\\yolov9\n"
     ]
    }
   ],
   "source": [
    "%cd yolov9"
   ]
  },
  {
   "cell_type": "code",
   "execution_count": 3,
   "id": "ff852f2e",
   "metadata": {},
   "outputs": [
    {
     "name": "stdout",
     "output_type": "stream",
     "text": [
      " Volume in drive D is Other\n",
      " Volume Serial Number is 8EE5-C10C\n",
      "\n",
      " Directory of D:\\Jupyter Notebooks\\YOLOv9\\yolov9\n",
      "\n",
      "03/09/2024  12:13 PM    <DIR>          .\n",
      "03/09/2024  12:22 PM    <DIR>          ..\n",
      "03/09/2024  12:09 PM             6,409 benchmarks.py\n",
      "03/09/2024  12:09 PM    <DIR>          classify\n",
      "03/09/2024  12:09 PM    <DIR>          data\n",
      "03/09/2024  12:09 PM            12,471 detect.py\n",
      "03/09/2024  12:09 PM            12,502 detect_dual.py\n",
      "03/09/2024  12:09 PM            33,027 export.py\n",
      "03/09/2024  12:09 PM    <DIR>          figure\n",
      "03/09/2024  12:09 PM             4,762 hubconf.py\n",
      "03/09/2024  12:09 PM            35,823 LICENSE.md\n",
      "03/09/2024  12:09 PM    <DIR>          models\n",
      "03/09/2024  12:13 PM    <DIR>          -p\n",
      "03/09/2024  12:09 PM    <DIR>          panoptic\n",
      "03/09/2024  12:09 PM            12,737 README.md\n",
      "03/09/2024  12:09 PM             1,120 requirements.txt\n",
      "03/09/2024  12:09 PM    <DIR>          scripts\n",
      "03/09/2024  12:09 PM    <DIR>          segment\n",
      "03/09/2024  12:09 PM    <DIR>          tools\n",
      "03/09/2024  12:09 PM            34,430 train.py\n",
      "03/09/2024  12:09 PM            34,956 train_dual.py\n",
      "03/09/2024  12:09 PM            34,465 train_triple.py\n",
      "03/09/2024  12:09 PM    <DIR>          utils\n",
      "03/09/2024  12:09 PM            19,870 val.py\n",
      "03/09/2024  12:09 PM            19,988 val_dual.py\n",
      "03/09/2024  12:09 PM            19,940 val_triple.py\n",
      "03/09/2024  12:17 PM    <DIR>          weights\n",
      "              14 File(s)        282,500 bytes\n",
      "              13 Dir(s)  814,301,949,952 bytes free\n"
     ]
    }
   ],
   "source": [
    "%ls"
   ]
  },
  {
   "cell_type": "code",
   "execution_count": 4,
   "id": "cd63fb74",
   "metadata": {},
   "outputs": [
    {
     "name": "stdout",
     "output_type": "stream",
     "text": [
      "Requirement already satisfied: gitpython in d:\\anaconda\\envs\\vision\\lib\\site-packages (from -r requirements.txt (line 5)) (3.1.42)\n",
      "Requirement already satisfied: ipython in d:\\anaconda\\envs\\vision\\lib\\site-packages (from -r requirements.txt (line 6)) (8.22.2)\n",
      "Requirement already satisfied: matplotlib>=3.2.2 in d:\\anaconda\\envs\\vision\\lib\\site-packages (from -r requirements.txt (line 7)) (3.8.3)\n",
      "Requirement already satisfied: numpy>=1.18.5 in d:\\anaconda\\envs\\vision\\lib\\site-packages (from -r requirements.txt (line 8)) (1.26.4)\n",
      "Requirement already satisfied: opencv-python>=4.1.1 in d:\\anaconda\\envs\\vision\\lib\\site-packages (from -r requirements.txt (line 9)) (4.9.0.80)\n",
      "Requirement already satisfied: Pillow>=7.1.2 in d:\\anaconda\\envs\\vision\\lib\\site-packages (from -r requirements.txt (line 10)) (10.2.0)\n",
      "Requirement already satisfied: psutil in d:\\anaconda\\envs\\vision\\lib\\site-packages (from -r requirements.txt (line 11)) (5.9.8)\n",
      "Requirement already satisfied: PyYAML>=5.3.1 in d:\\anaconda\\envs\\vision\\lib\\site-packages (from -r requirements.txt (line 12)) (6.0.1)\n",
      "Requirement already satisfied: requests>=2.23.0 in d:\\anaconda\\envs\\vision\\lib\\site-packages (from -r requirements.txt (line 13)) (2.31.0)\n",
      "Requirement already satisfied: scipy>=1.4.1 in d:\\anaconda\\envs\\vision\\lib\\site-packages (from -r requirements.txt (line 14)) (1.12.0)\n",
      "Requirement already satisfied: thop>=0.1.1 in d:\\anaconda\\envs\\vision\\lib\\site-packages (from -r requirements.txt (line 15)) (0.1.1.post2209072238)\n",
      "Requirement already satisfied: torch>=1.7.0 in d:\\anaconda\\envs\\vision\\lib\\site-packages (from -r requirements.txt (line 16)) (2.2.1)\n",
      "Requirement already satisfied: torchvision>=0.8.1 in d:\\anaconda\\envs\\vision\\lib\\site-packages (from -r requirements.txt (line 17)) (0.17.1)\n",
      "Requirement already satisfied: tqdm>=4.64.0 in d:\\anaconda\\envs\\vision\\lib\\site-packages (from -r requirements.txt (line 18)) (4.66.2)\n",
      "Requirement already satisfied: tensorboard>=2.4.1 in d:\\anaconda\\envs\\vision\\lib\\site-packages (from -r requirements.txt (line 22)) (2.16.2)\n",
      "Requirement already satisfied: pandas>=1.1.4 in d:\\anaconda\\envs\\vision\\lib\\site-packages (from -r requirements.txt (line 27)) (2.2.1)\n",
      "Requirement already satisfied: seaborn>=0.11.0 in d:\\anaconda\\envs\\vision\\lib\\site-packages (from -r requirements.txt (line 28)) (0.13.2)\n",
      "Requirement already satisfied: albumentations>=1.0.3 in d:\\anaconda\\envs\\vision\\lib\\site-packages (from -r requirements.txt (line 46)) (1.4.1)\n",
      "Requirement already satisfied: pycocotools>=2.0 in d:\\anaconda\\envs\\vision\\lib\\site-packages (from -r requirements.txt (line 47)) (2.0.7)\n",
      "Requirement already satisfied: gitdb<5,>=4.0.1 in d:\\anaconda\\envs\\vision\\lib\\site-packages (from gitpython->-r requirements.txt (line 5)) (4.0.11)\n",
      "Requirement already satisfied: decorator in d:\\anaconda\\envs\\vision\\lib\\site-packages (from ipython->-r requirements.txt (line 6)) (5.1.1)\n",
      "Requirement already satisfied: jedi>=0.16 in d:\\anaconda\\envs\\vision\\lib\\site-packages (from ipython->-r requirements.txt (line 6)) (0.19.1)\n",
      "Requirement already satisfied: matplotlib-inline in d:\\anaconda\\envs\\vision\\lib\\site-packages (from ipython->-r requirements.txt (line 6)) (0.1.6)\n",
      "Requirement already satisfied: prompt-toolkit<3.1.0,>=3.0.41 in d:\\anaconda\\envs\\vision\\lib\\site-packages (from ipython->-r requirements.txt (line 6)) (3.0.43)\n",
      "Requirement already satisfied: pygments>=2.4.0 in d:\\anaconda\\envs\\vision\\lib\\site-packages (from ipython->-r requirements.txt (line 6)) (2.17.2)\n",
      "Requirement already satisfied: stack-data in d:\\anaconda\\envs\\vision\\lib\\site-packages (from ipython->-r requirements.txt (line 6)) (0.6.3)\n",
      "Requirement already satisfied: traitlets>=5.13.0 in d:\\anaconda\\envs\\vision\\lib\\site-packages (from ipython->-r requirements.txt (line 6)) (5.14.1)\n",
      "Requirement already satisfied: exceptiongroup in d:\\anaconda\\envs\\vision\\lib\\site-packages (from ipython->-r requirements.txt (line 6)) (1.2.0)\n",
      "Requirement already satisfied: colorama in d:\\anaconda\\envs\\vision\\lib\\site-packages (from ipython->-r requirements.txt (line 6)) (0.4.6)\n",
      "Requirement already satisfied: contourpy>=1.0.1 in d:\\anaconda\\envs\\vision\\lib\\site-packages (from matplotlib>=3.2.2->-r requirements.txt (line 7)) (1.2.0)\n",
      "Requirement already satisfied: cycler>=0.10 in d:\\anaconda\\envs\\vision\\lib\\site-packages (from matplotlib>=3.2.2->-r requirements.txt (line 7)) (0.12.1)\n",
      "Requirement already satisfied: fonttools>=4.22.0 in d:\\anaconda\\envs\\vision\\lib\\site-packages (from matplotlib>=3.2.2->-r requirements.txt (line 7)) (4.49.0)\n",
      "Requirement already satisfied: kiwisolver>=1.3.1 in d:\\anaconda\\envs\\vision\\lib\\site-packages (from matplotlib>=3.2.2->-r requirements.txt (line 7)) (1.4.5)\n",
      "Requirement already satisfied: packaging>=20.0 in d:\\anaconda\\envs\\vision\\lib\\site-packages (from matplotlib>=3.2.2->-r requirements.txt (line 7)) (23.2)\n",
      "Requirement already satisfied: pyparsing>=2.3.1 in d:\\anaconda\\envs\\vision\\lib\\site-packages (from matplotlib>=3.2.2->-r requirements.txt (line 7)) (3.1.2)\n",
      "Requirement already satisfied: python-dateutil>=2.7 in d:\\anaconda\\envs\\vision\\lib\\site-packages (from matplotlib>=3.2.2->-r requirements.txt (line 7)) (2.9.0.post0)\n",
      "Requirement already satisfied: charset-normalizer<4,>=2 in d:\\anaconda\\envs\\vision\\lib\\site-packages (from requests>=2.23.0->-r requirements.txt (line 13)) (3.3.2)\n",
      "Requirement already satisfied: idna<4,>=2.5 in d:\\anaconda\\envs\\vision\\lib\\site-packages (from requests>=2.23.0->-r requirements.txt (line 13)) (3.6)\n",
      "Requirement already satisfied: urllib3<3,>=1.21.1 in d:\\anaconda\\envs\\vision\\lib\\site-packages (from requests>=2.23.0->-r requirements.txt (line 13)) (2.2.1)\n",
      "Requirement already satisfied: certifi>=2017.4.17 in d:\\anaconda\\envs\\vision\\lib\\site-packages (from requests>=2.23.0->-r requirements.txt (line 13)) (2024.2.2)\n",
      "Requirement already satisfied: filelock in d:\\anaconda\\envs\\vision\\lib\\site-packages (from torch>=1.7.0->-r requirements.txt (line 16)) (3.13.1)\n",
      "Requirement already satisfied: typing-extensions>=4.8.0 in d:\\anaconda\\envs\\vision\\lib\\site-packages (from torch>=1.7.0->-r requirements.txt (line 16)) (4.10.0)\n",
      "Requirement already satisfied: sympy in d:\\anaconda\\envs\\vision\\lib\\site-packages (from torch>=1.7.0->-r requirements.txt (line 16)) (1.12)\n",
      "Requirement already satisfied: networkx in d:\\anaconda\\envs\\vision\\lib\\site-packages (from torch>=1.7.0->-r requirements.txt (line 16)) (3.2.1)\n",
      "Requirement already satisfied: jinja2 in d:\\anaconda\\envs\\vision\\lib\\site-packages (from torch>=1.7.0->-r requirements.txt (line 16)) (3.1.3)\n",
      "Requirement already satisfied: fsspec in d:\\anaconda\\envs\\vision\\lib\\site-packages (from torch>=1.7.0->-r requirements.txt (line 16)) (2024.2.0)\n",
      "Requirement already satisfied: absl-py>=0.4 in d:\\anaconda\\envs\\vision\\lib\\site-packages (from tensorboard>=2.4.1->-r requirements.txt (line 22)) (2.1.0)\n",
      "Requirement already satisfied: grpcio>=1.48.2 in d:\\anaconda\\envs\\vision\\lib\\site-packages (from tensorboard>=2.4.1->-r requirements.txt (line 22)) (1.62.1)\n",
      "Requirement already satisfied: markdown>=2.6.8 in d:\\anaconda\\envs\\vision\\lib\\site-packages (from tensorboard>=2.4.1->-r requirements.txt (line 22)) (3.5.2)\n",
      "Requirement already satisfied: protobuf!=4.24.0,>=3.19.6 in d:\\anaconda\\envs\\vision\\lib\\site-packages (from tensorboard>=2.4.1->-r requirements.txt (line 22)) (4.25.3)\n",
      "Requirement already satisfied: setuptools>=41.0.0 in d:\\anaconda\\envs\\vision\\lib\\site-packages (from tensorboard>=2.4.1->-r requirements.txt (line 22)) (68.2.2)\n",
      "Requirement already satisfied: six>1.9 in d:\\anaconda\\envs\\vision\\lib\\site-packages (from tensorboard>=2.4.1->-r requirements.txt (line 22)) (1.16.0)\n",
      "Requirement already satisfied: tensorboard-data-server<0.8.0,>=0.7.0 in d:\\anaconda\\envs\\vision\\lib\\site-packages (from tensorboard>=2.4.1->-r requirements.txt (line 22)) (0.7.2)\n",
      "Requirement already satisfied: werkzeug>=1.0.1 in d:\\anaconda\\envs\\vision\\lib\\site-packages (from tensorboard>=2.4.1->-r requirements.txt (line 22)) (3.0.1)\n",
      "Requirement already satisfied: pytz>=2020.1 in d:\\anaconda\\envs\\vision\\lib\\site-packages (from pandas>=1.1.4->-r requirements.txt (line 27)) (2024.1)\n",
      "Requirement already satisfied: tzdata>=2022.7 in d:\\anaconda\\envs\\vision\\lib\\site-packages (from pandas>=1.1.4->-r requirements.txt (line 27)) (2024.1)\n",
      "Requirement already satisfied: scikit-image>=0.21.0 in d:\\anaconda\\envs\\vision\\lib\\site-packages (from albumentations>=1.0.3->-r requirements.txt (line 46)) (0.22.0)\n",
      "Requirement already satisfied: scikit-learn>=1.3.2 in d:\\anaconda\\envs\\vision\\lib\\site-packages (from albumentations>=1.0.3->-r requirements.txt (line 46)) (1.4.1.post1)\n",
      "Requirement already satisfied: opencv-python-headless>=4.9.0 in d:\\anaconda\\envs\\vision\\lib\\site-packages (from albumentations>=1.0.3->-r requirements.txt (line 46)) (4.9.0.80)\n",
      "Requirement already satisfied: smmap<6,>=3.0.1 in d:\\anaconda\\envs\\vision\\lib\\site-packages (from gitdb<5,>=4.0.1->gitpython->-r requirements.txt (line 5)) (5.0.1)\n",
      "Requirement already satisfied: parso<0.9.0,>=0.8.3 in d:\\anaconda\\envs\\vision\\lib\\site-packages (from jedi>=0.16->ipython->-r requirements.txt (line 6)) (0.8.3)\n",
      "Requirement already satisfied: wcwidth in d:\\anaconda\\envs\\vision\\lib\\site-packages (from prompt-toolkit<3.1.0,>=3.0.41->ipython->-r requirements.txt (line 6)) (0.2.13)\n",
      "Requirement already satisfied: imageio>=2.27 in d:\\anaconda\\envs\\vision\\lib\\site-packages (from scikit-image>=0.21.0->albumentations>=1.0.3->-r requirements.txt (line 46)) (2.34.0)\n",
      "Requirement already satisfied: tifffile>=2022.8.12 in d:\\anaconda\\envs\\vision\\lib\\site-packages (from scikit-image>=0.21.0->albumentations>=1.0.3->-r requirements.txt (line 46)) (2024.2.12)\n",
      "Requirement already satisfied: lazy_loader>=0.3 in d:\\anaconda\\envs\\vision\\lib\\site-packages (from scikit-image>=0.21.0->albumentations>=1.0.3->-r requirements.txt (line 46)) (0.3)\n",
      "Requirement already satisfied: joblib>=1.2.0 in d:\\anaconda\\envs\\vision\\lib\\site-packages (from scikit-learn>=1.3.2->albumentations>=1.0.3->-r requirements.txt (line 46)) (1.3.2)\n",
      "Requirement already satisfied: threadpoolctl>=2.0.0 in d:\\anaconda\\envs\\vision\\lib\\site-packages (from scikit-learn>=1.3.2->albumentations>=1.0.3->-r requirements.txt (line 46)) (3.3.0)\n",
      "Requirement already satisfied: MarkupSafe>=2.1.1 in d:\\anaconda\\envs\\vision\\lib\\site-packages (from werkzeug>=1.0.1->tensorboard>=2.4.1->-r requirements.txt (line 22)) (2.1.5)\n",
      "Requirement already satisfied: executing>=1.2.0 in d:\\anaconda\\envs\\vision\\lib\\site-packages (from stack-data->ipython->-r requirements.txt (line 6)) (2.0.1)\n",
      "Requirement already satisfied: asttokens>=2.1.0 in d:\\anaconda\\envs\\vision\\lib\\site-packages (from stack-data->ipython->-r requirements.txt (line 6)) (2.4.1)\n",
      "Requirement already satisfied: pure-eval in d:\\anaconda\\envs\\vision\\lib\\site-packages (from stack-data->ipython->-r requirements.txt (line 6)) (0.2.2)\n",
      "Requirement already satisfied: mpmath>=0.19 in d:\\anaconda\\envs\\vision\\lib\\site-packages (from sympy->torch>=1.7.0->-r requirements.txt (line 16)) (1.3.0)\n"
     ]
    }
   ],
   "source": [
    "!pip install -r requirements.txt"
   ]
  },
  {
   "cell_type": "code",
   "execution_count": 7,
   "id": "f8fa5385",
   "metadata": {},
   "outputs": [
    {
     "name": "stdout",
     "output_type": "stream",
     "text": [
      " Volume in drive D is Other\n",
      " Volume Serial Number is 8EE5-C10C\n",
      "\n",
      " Directory of D:\\Jupyter Notebooks\\YOLOv9\\yolov9\n",
      "\n",
      "03/09/2024  12:09 PM    <DIR>          .\n",
      "03/09/2024  12:12 PM    <DIR>          ..\n",
      "03/09/2024  12:09 PM             6,409 benchmarks.py\n",
      "03/09/2024  12:09 PM    <DIR>          classify\n",
      "03/09/2024  12:09 PM    <DIR>          data\n",
      "03/09/2024  12:09 PM            12,471 detect.py\n",
      "03/09/2024  12:09 PM            12,502 detect_dual.py\n",
      "03/09/2024  12:09 PM            33,027 export.py\n",
      "03/09/2024  12:09 PM    <DIR>          figure\n",
      "03/09/2024  12:09 PM             4,762 hubconf.py\n",
      "03/09/2024  12:09 PM            35,823 LICENSE.md\n",
      "03/09/2024  12:09 PM    <DIR>          models\n",
      "03/09/2024  12:09 PM    <DIR>          panoptic\n",
      "03/09/2024  12:09 PM            12,737 README.md\n",
      "03/09/2024  12:09 PM             1,120 requirements.txt\n",
      "03/09/2024  12:09 PM    <DIR>          scripts\n",
      "03/09/2024  12:09 PM    <DIR>          segment\n",
      "03/09/2024  12:09 PM    <DIR>          tools\n",
      "03/09/2024  12:09 PM            34,430 train.py\n",
      "03/09/2024  12:09 PM            34,956 train_dual.py\n",
      "03/09/2024  12:09 PM            34,465 train_triple.py\n",
      "03/09/2024  12:09 PM    <DIR>          utils\n",
      "03/09/2024  12:09 PM            19,870 val.py\n",
      "03/09/2024  12:09 PM            19,988 val_dual.py\n",
      "03/09/2024  12:09 PM            19,940 val_triple.py\n",
      "              14 File(s)        282,500 bytes\n",
      "              11 Dir(s)  814,382,768,128 bytes free\n"
     ]
    }
   ],
   "source": [
    "#Added folder called weights and download the smallest model (pre-trained weights) - download yolov9-c manually\n",
    "%ls"
   ]
  },
  {
   "cell_type": "code",
   "execution_count": 8,
   "id": "0e3e40ce",
   "metadata": {},
   "outputs": [],
   "source": [
    "%mkdir -p weights"
   ]
  },
  {
   "cell_type": "code",
   "execution_count": 9,
   "id": "0a50474c",
   "metadata": {},
   "outputs": [
    {
     "name": "stdout",
     "output_type": "stream",
     "text": [
      " Volume in drive D is Other\n",
      " Volume Serial Number is 8EE5-C10C\n",
      "\n",
      " Directory of D:\\Jupyter Notebooks\\YOLOv9\\yolov9\n",
      "\n",
      "03/09/2024  12:13 PM    <DIR>          .\n",
      "03/09/2024  12:12 PM    <DIR>          ..\n",
      "03/09/2024  12:09 PM             6,409 benchmarks.py\n",
      "03/09/2024  12:09 PM    <DIR>          classify\n",
      "03/09/2024  12:09 PM    <DIR>          data\n",
      "03/09/2024  12:09 PM            12,471 detect.py\n",
      "03/09/2024  12:09 PM            12,502 detect_dual.py\n",
      "03/09/2024  12:09 PM            33,027 export.py\n",
      "03/09/2024  12:09 PM    <DIR>          figure\n",
      "03/09/2024  12:09 PM             4,762 hubconf.py\n",
      "03/09/2024  12:09 PM            35,823 LICENSE.md\n",
      "03/09/2024  12:09 PM    <DIR>          models\n",
      "03/09/2024  12:13 PM    <DIR>          -p\n",
      "03/09/2024  12:09 PM    <DIR>          panoptic\n",
      "03/09/2024  12:09 PM            12,737 README.md\n",
      "03/09/2024  12:09 PM             1,120 requirements.txt\n",
      "03/09/2024  12:09 PM    <DIR>          scripts\n",
      "03/09/2024  12:09 PM    <DIR>          segment\n",
      "03/09/2024  12:09 PM    <DIR>          tools\n",
      "03/09/2024  12:09 PM            34,430 train.py\n",
      "03/09/2024  12:09 PM            34,956 train_dual.py\n",
      "03/09/2024  12:09 PM            34,465 train_triple.py\n",
      "03/09/2024  12:09 PM    <DIR>          utils\n",
      "03/09/2024  12:09 PM            19,870 val.py\n",
      "03/09/2024  12:09 PM            19,988 val_dual.py\n",
      "03/09/2024  12:09 PM            19,940 val_triple.py\n",
      "03/09/2024  12:13 PM    <DIR>          weights\n",
      "              14 File(s)        282,500 bytes\n",
      "              13 Dir(s)  814,382,768,128 bytes free\n"
     ]
    }
   ],
   "source": [
    "%ls"
   ]
  },
  {
   "cell_type": "code",
   "execution_count": 1,
   "id": "b3a85995",
   "metadata": {},
   "outputs": [
    {
     "ename": "ModuleNotFoundError",
     "evalue": "No module named 'supervision'",
     "output_type": "error",
     "traceback": [
      "\u001b[1;31m---------------------------------------------------------------------------\u001b[0m",
      "\u001b[1;31mModuleNotFoundError\u001b[0m                       Traceback (most recent call last)",
      "Cell \u001b[1;32mIn[1], line 7\u001b[0m\n\u001b[0;32m      3\u001b[0m \u001b[38;5;66;03m# import torch\u001b[39;00m\n\u001b[0;32m      4\u001b[0m \n\u001b[0;32m      5\u001b[0m \u001b[38;5;66;03m# # CV\u001b[39;00m\n\u001b[0;32m      6\u001b[0m \u001b[38;5;28;01mimport\u001b[39;00m \u001b[38;5;21;01mcv2\u001b[39;00m\n\u001b[1;32m----> 7\u001b[0m \u001b[38;5;28;01mimport\u001b[39;00m \u001b[38;5;21;01msupervision\u001b[39;00m \u001b[38;5;28;01mas\u001b[39;00m \u001b[38;5;21;01msv\u001b[39;00m\n",
      "\u001b[1;31mModuleNotFoundError\u001b[0m: No module named 'supervision'"
     ]
    }
   ],
   "source": [
    "# ML/DL\n",
    "import numpy as np\n",
    "# import torch\n",
    "\n",
    "# # CV\n",
    "import cv2\n",
    "import supervision as sv\n",
    "\n",
    "# # YOLOv9\n",
    "# from models.common import DetectMultiBackend, AutoShape\n",
    "# from utils.torch_utils import select_device\n",
    "# from utils.general import set_logging\n",
    "\n",
    "# # Video Demonstration\n",
    "# from IPython.display import HTML\n",
    "# from base64 import b64encode"
   ]
  },
  {
   "cell_type": "code",
   "execution_count": null,
   "id": "31abc72f",
   "metadata": {},
   "outputs": [],
   "source": []
  }
 ],
 "metadata": {
  "kernelspec": {
   "display_name": "Python 3 (ipykernel)",
   "language": "python",
   "name": "python3"
  },
  "language_info": {
   "codemirror_mode": {
    "name": "ipython",
    "version": 3
   },
   "file_extension": ".py",
   "mimetype": "text/x-python",
   "name": "python",
   "nbconvert_exporter": "python",
   "pygments_lexer": "ipython3",
   "version": "3.11.3"
  }
 },
 "nbformat": 4,
 "nbformat_minor": 5
}
